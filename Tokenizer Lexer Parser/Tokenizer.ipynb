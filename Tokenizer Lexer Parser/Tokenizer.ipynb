{
 "cells": [
  {
   "cell_type": "code",
   "execution_count": 1,
   "metadata": {},
   "outputs": [],
   "source": [
    "import re\n",
    "import json"
   ]
  },
  {
   "cell_type": "code",
   "execution_count": 2,
   "metadata": {},
   "outputs": [],
   "source": [
    "program = open(\"Program.txt\", \"r\")"
   ]
  },
  {
   "cell_type": "code",
   "execution_count": 3,
   "metadata": {},
   "outputs": [],
   "source": [
    "programlines = []\n",
    "for line in program.readlines():\n",
    "    programlines.append(line.strip())"
   ]
  },
  {
   "cell_type": "code",
   "execution_count": 4,
   "metadata": {},
   "outputs": [
    {
     "name": "stdout",
     "output_type": "stream",
     "text": [
      "Triangle myTriangle\n",
      "myTriangle.setParameters( 1 , 4.5 , 6)\n",
      "myTriangle.setVertices(\"A\",\"B\",\"C\")\n",
      "myTriangle. draw()\n",
      "\n"
     ]
    }
   ],
   "source": [
    "for line in programlines:\n",
    "    print(line)"
   ]
  },
  {
   "cell_type": "code",
   "execution_count": 5,
   "metadata": {},
   "outputs": [],
   "source": [
    "raw_tokens = {}\n",
    "i = 0\n",
    "for line in programlines:\n",
    "    line_tokens = []\n",
    "    if '(' in line:\n",
    "        aux = line[:line.index('(')]\n",
    "    else:\n",
    "        aux = line        \n",
    "    for x in range(len(aux)):\n",
    "        if aux[x] == '.':\n",
    "            aux = aux[: x] + ' ' + aux[x] + ' ' + aux[x + 1:]\n",
    "    aux += ' '\n",
    "    words = re.findall(r'[^\\s]+', aux)\n",
    "    for word in words:\n",
    "        line_tokens.append(word)\n",
    "    if '(' in line:\n",
    "        argumentlist = line[line.index('('):line.index(')') + 1]\n",
    "        line_tokens.append('(')\n",
    "        argumentlist = argumentlist[1:len(argumentlist)-1]\n",
    "        line = line.replace(argumentlist, '')\n",
    "        argumentlist = argumentlist.split(',')\n",
    "        for string in argumentlist:\n",
    "            string = string.strip()\n",
    "            if len(string) > 0:\n",
    "                line_tokens.append(string)\n",
    "        line_tokens.append(')')\n",
    "    raw_tokens[i] = line_tokens\n",
    "    i += 1"
   ]
  },
  {
   "cell_type": "code",
   "execution_count": 7,
   "metadata": {},
   "outputs": [
    {
     "name": "stdout",
     "output_type": "stream",
     "text": [
      "['Triangle', 'myTriangle']\n",
      "['myTriangle', '.', 'setParameters', '(', '1', '4.5', '6', ')']\n",
      "['myTriangle', '.', 'setVertices', '(', '\"A\"', '\"B\"', '\"C\"', ')']\n",
      "['myTriangle', '.', 'draw', '(', ')']\n",
      "{0: ['Triangle', 'myTriangle'], 1: ['myTriangle', '.', 'setParameters', '(', '1', '4.5', '6', ')'], 2: ['myTriangle', '.', 'setVertices', '(', '\"A\"', '\"B\"', '\"C\"', ')'], 3: ['myTriangle', '.', 'draw', '(', ')']}\n"
     ]
    }
   ],
   "source": [
    "tokens = {}\n",
    "i = 0\n",
    "for x in range(len(raw_tokens)):\n",
    "    if raw_tokens[x] != []:\n",
    "        tokens[i] = raw_tokens[x]\n",
    "        i += 1\n",
    "print(tokens[0])\n",
    "print(tokens[1])\n",
    "print(tokens[2])\n",
    "print(tokens[3])\n",
    "\n",
    "print(tokens)\n",
    "\n"
   ]
  },
  {
   "cell_type": "code",
   "execution_count": null,
   "metadata": {},
   "outputs": [],
   "source": [
    "with open('tokens.txt', 'w') as file:\n",
    "    file.write(json.dumps(tokens))"
   ]
  },
  {
   "cell_type": "code",
   "execution_count": null,
   "metadata": {},
   "outputs": [],
   "source": []
  }
 ],
 "metadata": {
  "kernelspec": {
   "display_name": "Python 3",
   "language": "python",
   "name": "python3"
  },
  "language_info": {
   "codemirror_mode": {
    "name": "ipython",
    "version": 3
   },
   "file_extension": ".py",
   "mimetype": "text/x-python",
   "name": "python",
   "nbconvert_exporter": "python",
   "pygments_lexer": "ipython3",
   "version": "3.8.5"
  }
 },
 "nbformat": 4,
 "nbformat_minor": 4
}
