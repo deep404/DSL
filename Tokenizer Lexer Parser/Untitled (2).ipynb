{
 "cells": [
  {
   "cell_type": "code",
   "execution_count": 1,
   "metadata": {},
   "outputs": [],
   "source": [
    "import json\n",
    "import re"
   ]
  },
  {
   "cell_type": "code",
   "execution_count": 2,
   "metadata": {},
   "outputs": [
    {
     "name": "stdout",
     "output_type": "stream",
     "text": [
      "{'0': [['Triangle', 'shapeName'], ['myTriangle', 'identifier']], '1': [['myTriangle', 'identifier'], ['.', 'DOT'], ['setParameters', 'methodName'], ['(', 'OPENBRACKET'], ['1', 'numericType'], ['4.5', 'numericType'], ['6', 'numericType'], [')', 'CLOSEDBRACKET']], '2': [['myTriangle', 'identifier'], ['.', 'DOT'], ['setVertices', 'methodName'], ['(', 'OPENBRACKET'], ['\"A\"', 'string'], ['\"B\"', 'string'], ['\"C\"', 'string'], [')', 'CLOSEDBRACKET']], '3': [['myTriangle', 'identifier'], ['.', 'DOT'], ['draw', 'methodName'], ['(', 'OPENBRACKET'], [')', 'CLOSEDBRACKET']], '4': [['asdadada', 'identifier']]}\n"
     ]
    }
   ],
   "source": [
    "with open('lexical_analysis.txt', 'r') as file:\n",
    "    lexer = json.loads(file.read())\n",
    "print(lexer)"
   ]
  },
  {
   "cell_type": "code",
   "execution_count": 4,
   "metadata": {},
   "outputs": [
    {
     "name": "stdout",
     "output_type": "stream",
     "text": [
      "[['Triangle', 'shapeName'], ['myTriangle', 'identifier']]\n",
      "[['myTriangle', 'identifier'], ['setParameters', 'methodName'], ['1', 'numericType'], ['4.5', 'numericType'], ['6', 'numericType']]\n",
      "[['myTriangle', 'identifier'], ['setVertices', 'methodName'], ['\"A\"', 'string'], ['\"B\"', 'string'], ['\"C\"', 'string']]\n",
      "[['myTriangle', 'identifier'], ['draw', 'methodName']]\n"
     ]
    }
   ],
   "source": [
    "parser = {}\n",
    "for x in lexer:\n",
    "    line = lexer[x]\n",
    "    line_parser = []\n",
    "    for word in line:\n",
    "        if word[1] != \"DOT\" and word[1] != \"OPENBRACKET\" and word[1] != \"CLOSEDBRACKET\":\n",
    "            line_parser.append(word)\n",
    "    parser[int(x)] = line_parser\n",
    "\n",
    "#print(parser[0])\n",
    "#print(parser[1])\n",
    "#print(parser[2])\n",
    "#print(parser[3])"
   ]
  },
  {
   "cell_type": "code",
   "execution_count": 5,
   "metadata": {},
   "outputs": [],
   "source": [
    "with open('ast.txt', 'w') as file:\n",
    "    file.write(json.dumps(parser))"
   ]
  },
  {
   "cell_type": "code",
   "execution_count": null,
   "metadata": {},
   "outputs": [],
   "source": []
  }
 ],
 "metadata": {
  "kernelspec": {
   "display_name": "Python 3",
   "language": "python",
   "name": "python3"
  },
  "language_info": {
   "codemirror_mode": {
    "name": "ipython",
    "version": 3
   },
   "file_extension": ".py",
   "mimetype": "text/x-python",
   "name": "python",
   "nbconvert_exporter": "python",
   "pygments_lexer": "ipython3",
   "version": "3.8.5"
  }
 },
 "nbformat": 4,
 "nbformat_minor": 4
}
