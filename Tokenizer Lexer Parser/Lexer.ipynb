{
 "cells": [
  {
   "cell_type": "code",
   "execution_count": 1,
   "metadata": {},
   "outputs": [],
   "source": [
    "import json\n",
    "import re"
   ]
  },
  {
   "cell_type": "code",
   "execution_count": 2,
   "metadata": {},
   "outputs": [],
   "source": [
    "def TokenValue (word):\n",
    "    shapeName = ['Triangle', 'Circle'] #trebuie de adaugat pe restul\n",
    "    methodName = ['draw','setParameters','setVertices'] #trebuie de adaugat pe restul\n",
    "    openBracket = ['(']\n",
    "    closedBracket = [')']\n",
    "    dot = ['.']\n",
    "    numericType = '(\\d+(?:\\.\\d+)?)'\n",
    "    identifier = r'^[A-Za-z][A-Za-z0-9_]*$'\n",
    "\n",
    "    if (word[0]=='\"' and word[-1]=='\"'):\n",
    "        return 'string'\n",
    "        #print(\"Token : {token_type:(string), value: (\",word,\")\")\n",
    "    elif (word in shapeName):\n",
    "        return 'shapeName'\n",
    "        #print(\"Token : {token_type:(shapeName), value: (\",word,\")\")\n",
    "    elif(bool(re.search(identifier, word)) and word not in shapeName and word not in methodName):\n",
    "        return 'identifier'\n",
    "        #print(\"Token : {token_type:(identifier), value: (\",word,\")\")\n",
    "    elif (word in methodName):\n",
    "        return 'methodName'\n",
    "        #print(\"Token : {token_type:(methodName), value: (\",word,\")\")\n",
    "    elif (word in openBracket):\n",
    "        return 'OPENBRACKET'\n",
    "    elif (word in closedBracket):\n",
    "        return 'CLOSEDBRACKET'\n",
    "    elif (word in dot):\n",
    "        return 'DOT'   \n",
    "    elif (re.findall(numericType,word)):\n",
    "        return 'numericType'\n",
    "        #print(\"Token : {token_type:(numericType), value: (\",word,\")\")"
   ]
  },
  {
   "cell_type": "code",
   "execution_count": 3,
   "metadata": {},
   "outputs": [
    {
     "name": "stdout",
     "output_type": "stream",
     "text": [
      "{'0': ['Triangle', 'myTriangle'], '1': ['myTriangle', '.', 'setParameters', '(', '1', '4.5', '6', ')'], '2': ['myTriangle', '.', 'setVertices', '(', '\"A\"', '\"B\"', '\"C\"', ')'], '3': ['myTriangle', '.', 'draw', '(', ')'], '4': ['asdadada']}\n"
     ]
    }
   ],
   "source": [
    "with open('tokens.txt', 'r') as file:\n",
    "    tokens = json.loads(file.read())\n",
    "print(tokens)"
   ]
  },
  {
   "cell_type": "code",
   "execution_count": 6,
   "metadata": {},
   "outputs": [
    {
     "name": "stdout",
     "output_type": "stream",
     "text": [
      "[('Triangle', 'shapeName'), ('myTriangle', 'identifier')]\n",
      "[('myTriangle', 'identifier'), ('.', 'DOT'), ('setParameters', 'methodName'), ('(', 'OPENBRACKET'), ('1', 'numericType'), ('4.5', 'numericType'), ('6', 'numericType'), (')', 'CLOSEDBRACKET')]\n",
      "[('myTriangle', 'identifier'), ('.', 'DOT'), ('setVertices', 'methodName'), ('(', 'OPENBRACKET'), ('\"A\"', 'string'), ('\"B\"', 'string'), ('\"C\"', 'string'), (')', 'CLOSEDBRACKET')]\n",
      "[('myTriangle', 'identifier'), ('.', 'DOT'), ('draw', 'methodName'), ('(', 'OPENBRACKET'), (')', 'CLOSEDBRACKET')]\n"
     ]
    }
   ],
   "source": [
    "lexer = {}\n",
    "for x in tokens:\n",
    "    line = tokens[x]\n",
    "    line_lexer = []\n",
    "    for word in line:\n",
    "        value = TokenValue(word)\n",
    "        line_lexer.append((word, value))\n",
    "    lexer[int(x)] = line_lexer\n",
    "print(lexer[0])\n",
    "print(lexer[1])\n",
    "print(lexer[2])\n",
    "print(lexer[3])\n",
    "\n",
    "\n"
   ]
  },
  {
   "cell_type": "code",
   "execution_count": 5,
   "metadata": {},
   "outputs": [],
   "source": [
    "with open('lexical_analysis.txt', 'w') as file:\n",
    "    file.write(json.dumps(lexer))"
   ]
  },
  {
   "cell_type": "code",
   "execution_count": null,
   "metadata": {},
   "outputs": [],
   "source": []
  }
 ],
 "metadata": {
  "kernelspec": {
   "display_name": "Python 3",
   "language": "python",
   "name": "python3"
  },
  "language_info": {
   "codemirror_mode": {
    "name": "ipython",
    "version": 3
   },
   "file_extension": ".py",
   "mimetype": "text/x-python",
   "name": "python",
   "nbconvert_exporter": "python",
   "pygments_lexer": "ipython3",
   "version": "3.8.5"
  }
 },
 "nbformat": 4,
 "nbformat_minor": 4
}
